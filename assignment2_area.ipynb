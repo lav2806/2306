{
  "nbformat": 4,
  "nbformat_minor": 0,
  "metadata": {
    "colab": {
      "name": "assignment2_area.ipynb",
      "provenance": []
    },
    "kernelspec": {
      "name": "python3",
      "display_name": "Python 3"
    }
  },
  "cells": [
    {
      "cell_type": "code",
      "metadata": {
        "id": "ntgOarzmPYbq",
        "colab_type": "code",
        "colab": {
          "base_uri": "https://localhost:8080/",
          "height": 54
        },
        "outputId": "b9a1e3ca-9c62-46de-8073-2615a6857ed3"
      },
      "source": [
        "import math\n",
        "def area(r):\n",
        "    return math.pi*(r*r)\n",
        "i=int(input(\"enter the radius\"))\n",
        "print(\"the area of circle is {}\".format(area(i)))\n",
        "\n",
        "\n"
      ],
      "execution_count": 2,
      "outputs": [
        {
          "output_type": "stream",
          "text": [
            "enter the radius2\n",
            "the area of circle is 12.566370614359172\n"
          ],
          "name": "stdout"
        }
      ]
    }
  ]
}